{
 "cells": [
  {
   "cell_type": "code",
   "execution_count": 35,
   "id": "e007cc54",
   "metadata": {
    "tags": []
   },
   "outputs": [],
   "source": [
    "import pandas as pd\n",
    "import numpy as np\n",
    "import datetime\n",
    "import matplotlib.pyplot as plt\n",
    "from scipy.stats import binned_statistic\n",
    "from scipy.stats import linregress"
   ]
  },
  {
   "cell_type": "markdown",
   "id": "177fe325",
   "metadata": {},
   "source": [
    "# Load transect densities from Soviet NP data\n",
    "\n",
    "### This code draws on a spreadsheet that's produced from the original .DAT file sent to me by NSIDC"
   ]
  },
  {
   "cell_type": "code",
   "execution_count": 36,
   "id": "88a8d246",
   "metadata": {
    "tags": []
   },
   "outputs": [],
   "source": [
    "ef = pd.ExcelFile('./transect_densities.xlsx')\n",
    "\n",
    "sns  = ef.sheet_names\n",
    "\n",
    "dfs = []\n",
    "\n",
    "for sn in sns:\n",
    "    \n",
    "    df = pd.read_excel('./transect_densities.xlsx',sheet_name=sn)\n",
    "    \n",
    "    dfs.append(df)"
   ]
  },
  {
   "cell_type": "markdown",
   "id": "4ee5ef86",
   "metadata": {},
   "source": [
    "# Calculate mean density of each transect, and append to list along with day of year the transect was done on"
   ]
  },
  {
   "cell_type": "code",
   "execution_count": 37,
   "id": "0c088ad7",
   "metadata": {
    "tags": []
   },
   "outputs": [
    {
     "name": "stdout",
     "output_type": "stream",
     "text": [
      "4588 580\n"
     ]
    },
    {
     "name": "stderr",
     "output_type": "stream",
     "text": [
      "/tmp/ipykernel_12031/4155445865.py:14: RuntimeWarning: Mean of empty slice\n",
      "  mean_densities.append( {'den': np.nanmean(df[col])*1000,\n"
     ]
    }
   ],
   "source": [
    "mean_densities = []\n",
    "\n",
    "measurement_counter = 0\n",
    "\n",
    "for df in dfs:\n",
    "    \n",
    "#     print(df)\n",
    "    \n",
    "    for col in df.columns[1:]:\n",
    "        \n",
    "        count = np.count_nonzero(np.nan_to_num(df[col]))\n",
    "        measurement_counter+=count\n",
    "\n",
    "        mean_densities.append( {'den': np.nanmean(df[col])*1000,\n",
    "                                'dt':col,\n",
    "                                    }\n",
    "                                )\n",
    "        \n",
    "print(measurement_counter,len(mean_densities))"
   ]
  },
  {
   "cell_type": "markdown",
   "id": "0f69cbd7",
   "metadata": {},
   "source": [
    "# Turn into dataframe and clean"
   ]
  },
  {
   "cell_type": "code",
   "execution_count": 38,
   "id": "3e5948ef",
   "metadata": {
    "tags": []
   },
   "outputs": [
    {
     "data": {
      "text/html": [
       "<div>\n",
       "<style scoped>\n",
       "    .dataframe tbody tr th:only-of-type {\n",
       "        vertical-align: middle;\n",
       "    }\n",
       "\n",
       "    .dataframe tbody tr th {\n",
       "        vertical-align: top;\n",
       "    }\n",
       "\n",
       "    .dataframe thead th {\n",
       "        text-align: right;\n",
       "    }\n",
       "</style>\n",
       "<table border=\"1\" class=\"dataframe\">\n",
       "  <thead>\n",
       "    <tr style=\"text-align: right;\">\n",
       "      <th></th>\n",
       "      <th>den</th>\n",
       "      <th>dt</th>\n",
       "    </tr>\n",
       "  </thead>\n",
       "  <tbody>\n",
       "    <tr>\n",
       "      <th>0</th>\n",
       "      <td>299.000001</td>\n",
       "      <td>1955-05-31</td>\n",
       "    </tr>\n",
       "    <tr>\n",
       "      <th>1</th>\n",
       "      <td>334.000003</td>\n",
       "      <td>1955-06-11</td>\n",
       "    </tr>\n",
       "    <tr>\n",
       "      <th>2</th>\n",
       "      <td>368.749999</td>\n",
       "      <td>1955-06-23</td>\n",
       "    </tr>\n",
       "    <tr>\n",
       "      <th>3</th>\n",
       "      <td>385.999998</td>\n",
       "      <td>1955-07-04</td>\n",
       "    </tr>\n",
       "    <tr>\n",
       "      <th>4</th>\n",
       "      <td>264.999998</td>\n",
       "      <td>1955-11-10</td>\n",
       "    </tr>\n",
       "    <tr>\n",
       "      <th>...</th>\n",
       "      <td>...</td>\n",
       "      <td>...</td>\n",
       "    </tr>\n",
       "    <tr>\n",
       "      <th>575</th>\n",
       "      <td>328.000003</td>\n",
       "      <td>1991-02-20</td>\n",
       "    </tr>\n",
       "    <tr>\n",
       "      <th>576</th>\n",
       "      <td>341.000003</td>\n",
       "      <td>1991-02-28</td>\n",
       "    </tr>\n",
       "    <tr>\n",
       "      <th>577</th>\n",
       "      <td>346.000004</td>\n",
       "      <td>1991-03-10</td>\n",
       "    </tr>\n",
       "    <tr>\n",
       "      <th>578</th>\n",
       "      <td>348.000005</td>\n",
       "      <td>1991-03-20</td>\n",
       "    </tr>\n",
       "    <tr>\n",
       "      <th>579</th>\n",
       "      <td>345.000002</td>\n",
       "      <td>1991-03-31</td>\n",
       "    </tr>\n",
       "  </tbody>\n",
       "</table>\n",
       "<p>573 rows × 2 columns</p>\n",
       "</div>"
      ],
      "text/plain": [
       "            den         dt\n",
       "0    299.000001 1955-05-31\n",
       "1    334.000003 1955-06-11\n",
       "2    368.749999 1955-06-23\n",
       "3    385.999998 1955-07-04\n",
       "4    264.999998 1955-11-10\n",
       "..          ...        ...\n",
       "575  328.000003 1991-02-20\n",
       "576  341.000003 1991-02-28\n",
       "577  346.000004 1991-03-10\n",
       "578  348.000005 1991-03-20\n",
       "579  345.000002 1991-03-31\n",
       "\n",
       "[573 rows x 2 columns]"
      ]
     },
     "execution_count": 38,
     "metadata": {},
     "output_type": "execute_result"
    }
   ],
   "source": [
    "df = pd.DataFrame(mean_densities)\n",
    "\n",
    "df = df[df['den']>100]\n",
    "df = df[df['den']<500]\n",
    "\n",
    "df"
   ]
  },
  {
   "cell_type": "markdown",
   "id": "94d66b14",
   "metadata": {},
   "source": [
    "# Transform all dates into \"days since August 1st\"\n",
    "\n",
    "### Add this as a column to the dataframe"
   ]
  },
  {
   "cell_type": "code",
   "execution_count": 39,
   "id": "9bb9f69a",
   "metadata": {},
   "outputs": [],
   "source": [
    "def dt_to_dsa1(dt):\n",
    "    \n",
    "    \"\"\"This function takes in a python datetime.date object\n",
    "    and returns an integer number of days since the previous August 1st.\n",
    "    This means that if you input August 1st, the output is 0. The function\n",
    "    is also sensitive to leapyears, meaning that serving March 1st 2016 \n",
    "    will give a different value to March 1st 2017 by one day.\"\"\"\n",
    "    \n",
    "    year = dt.year\n",
    "    month = dt.month\n",
    "    \n",
    "    if np.isin(month,[8,9,10,11,12]):\n",
    "        a1 = datetime.date(year,8,1)\n",
    "    else:\n",
    "        a1 = datetime.date(year-1,8,1)\n",
    "        \n",
    "    days_since = (dt-a1).days\n",
    "    \n",
    "    return days_since\n",
    "\n",
    "df['dsa'] = [dt_to_dsa1(dt.to_pydatetime().date()) for dt in df['dt']]"
   ]
  },
  {
   "cell_type": "markdown",
   "id": "e3da33ad",
   "metadata": {},
   "source": [
    "# Perform the linear regression on the density data"
   ]
  },
  {
   "cell_type": "code",
   "execution_count": 40,
   "id": "1b4060f7",
   "metadata": {},
   "outputs": [
    {
     "data": {
      "text/plain": [
       "LinregressResult(slope=0.3500851327364704, intercept=239.7790004193282, rvalue=0.6169912925038441, pvalue=2.108823420190881e-61, stderr=0.01868679163370836, intercept_stderr=3.514590918988156)"
      ]
     },
     "execution_count": 40,
     "metadata": {},
     "output_type": "execute_result"
    }
   ],
   "source": [
    "x = df['dsa']\n",
    "y = df['den']\n",
    "\n",
    "lr = linregress(x,y)\n",
    "\n",
    "lr"
   ]
  },
  {
   "cell_type": "markdown",
   "id": "72c741db",
   "metadata": {},
   "source": [
    "# Produce 'modelled' density values for every real one\n",
    "\n",
    "### This helps plot the regression line later"
   ]
  },
  {
   "cell_type": "code",
   "execution_count": 41,
   "id": "e9cf1615",
   "metadata": {},
   "outputs": [
    {
     "data": {
      "text/html": [
       "<div>\n",
       "<style scoped>\n",
       "    .dataframe tbody tr th:only-of-type {\n",
       "        vertical-align: middle;\n",
       "    }\n",
       "\n",
       "    .dataframe tbody tr th {\n",
       "        vertical-align: top;\n",
       "    }\n",
       "\n",
       "    .dataframe thead th {\n",
       "        text-align: right;\n",
       "    }\n",
       "</style>\n",
       "<table border=\"1\" class=\"dataframe\">\n",
       "  <thead>\n",
       "    <tr style=\"text-align: right;\">\n",
       "      <th></th>\n",
       "      <th>den</th>\n",
       "      <th>dt</th>\n",
       "      <th>dsa</th>\n",
       "      <th>Eq2</th>\n",
       "    </tr>\n",
       "  </thead>\n",
       "  <tbody>\n",
       "    <tr>\n",
       "      <th>448</th>\n",
       "      <td>249.999999</td>\n",
       "      <td>1988-08-20</td>\n",
       "      <td>19</td>\n",
       "      <td>246.430618</td>\n",
       "    </tr>\n",
       "    <tr>\n",
       "      <th>331</th>\n",
       "      <td>194.000000</td>\n",
       "      <td>1985-08-21</td>\n",
       "      <td>20</td>\n",
       "      <td>246.780703</td>\n",
       "    </tr>\n",
       "    <tr>\n",
       "      <th>449</th>\n",
       "      <td>242.999999</td>\n",
       "      <td>1988-08-30</td>\n",
       "      <td>29</td>\n",
       "      <td>249.931469</td>\n",
       "    </tr>\n",
       "    <tr>\n",
       "      <th>65</th>\n",
       "      <td>189.000002</td>\n",
       "      <td>1962-08-31</td>\n",
       "      <td>30</td>\n",
       "      <td>250.281554</td>\n",
       "    </tr>\n",
       "    <tr>\n",
       "      <th>353</th>\n",
       "      <td>218.000001</td>\n",
       "      <td>1986-09-07</td>\n",
       "      <td>37</td>\n",
       "      <td>252.732150</td>\n",
       "    </tr>\n",
       "    <tr>\n",
       "      <th>...</th>\n",
       "      <td>...</td>\n",
       "      <td>...</td>\n",
       "      <td>...</td>\n",
       "      <td>...</td>\n",
       "    </tr>\n",
       "    <tr>\n",
       "      <th>12</th>\n",
       "      <td>315.000005</td>\n",
       "      <td>1957-06-30</td>\n",
       "      <td>333</td>\n",
       "      <td>356.357350</td>\n",
       "    </tr>\n",
       "    <tr>\n",
       "      <th>307</th>\n",
       "      <td>374.000001</td>\n",
       "      <td>1983-06-30</td>\n",
       "      <td>333</td>\n",
       "      <td>356.357350</td>\n",
       "    </tr>\n",
       "    <tr>\n",
       "      <th>447</th>\n",
       "      <td>371.000004</td>\n",
       "      <td>1988-06-30</td>\n",
       "      <td>334</td>\n",
       "      <td>356.707435</td>\n",
       "    </tr>\n",
       "    <tr>\n",
       "      <th>95</th>\n",
       "      <td>378.571429</td>\n",
       "      <td>1965-07-02</td>\n",
       "      <td>335</td>\n",
       "      <td>357.057520</td>\n",
       "    </tr>\n",
       "    <tr>\n",
       "      <th>3</th>\n",
       "      <td>385.999998</td>\n",
       "      <td>1955-07-04</td>\n",
       "      <td>337</td>\n",
       "      <td>357.757690</td>\n",
       "    </tr>\n",
       "  </tbody>\n",
       "</table>\n",
       "<p>573 rows × 4 columns</p>\n",
       "</div>"
      ],
      "text/plain": [
       "            den         dt  dsa         Eq2\n",
       "448  249.999999 1988-08-20   19  246.430618\n",
       "331  194.000000 1985-08-21   20  246.780703\n",
       "449  242.999999 1988-08-30   29  249.931469\n",
       "65   189.000002 1962-08-31   30  250.281554\n",
       "353  218.000001 1986-09-07   37  252.732150\n",
       "..          ...        ...  ...         ...\n",
       "12   315.000005 1957-06-30  333  356.357350\n",
       "307  374.000001 1983-06-30  333  356.357350\n",
       "447  371.000004 1988-06-30  334  356.707435\n",
       "95   378.571429 1965-07-02  335  357.057520\n",
       "3    385.999998 1955-07-04  337  357.757690\n",
       "\n",
       "[573 rows x 4 columns]"
      ]
     },
     "execution_count": 41,
     "metadata": {},
     "output_type": "execute_result"
    }
   ],
   "source": [
    "def den_from_dsa(dsa):\n",
    "    \n",
    "    \"\"\"This function produces a density value based on\n",
    "    an integer representing days since August 1st. See\n",
    "    the dt_to_dsa1 function above for how to produce\n",
    "    such an integer value. Density value in this function\n",
    "    is produced by Eqn 2 of the manuscript.\"\"\"\n",
    "    \n",
    "    density = lr[0]*dsa + lr[1]\n",
    "    \n",
    "    return density\n",
    "\n",
    "df['Eq2'] = [den_from_dsa(dsa) for dsa in df['dsa']]\n",
    "\n",
    "df.sort_values('dsa',inplace=True)\n",
    "\n",
    "df"
   ]
  },
  {
   "cell_type": "markdown",
   "id": "486b691a",
   "metadata": {},
   "source": [
    "# Calculate RMSE Values"
   ]
  },
  {
   "cell_type": "code",
   "execution_count": 45,
   "id": "1829f1de",
   "metadata": {},
   "outputs": [
    {
     "data": {
      "text/plain": [
       "(34.87650274146571, 34.82219955723007)"
      ]
     },
     "execution_count": 45,
     "metadata": {},
     "output_type": "execute_result"
    }
   ],
   "source": [
    "df['error'] = [yi-den_from_dsa(xi) for xi,yi in zip(x,y)]\n",
    "df['month'] = [dt.month for dt in df['dt']]\n",
    "\n",
    "rmse_full = np.sqrt(np.nanmean(np.square(df['error'])))\n",
    "\n",
    "df_cold = df[np.isin(df['month'],[10,11,12,1,2,3,4])]\n",
    "\n",
    "rmse_cold = np.sqrt(np.nanmean(np.square(df_cold['error'])))\n",
    "\n",
    "rmse_full, rmse_cold"
   ]
  },
  {
   "cell_type": "markdown",
   "id": "0774587b",
   "metadata": {},
   "source": [
    "# Now produce Mallett et al. 2020 values for each cold-season month\n",
    "\n",
    "### This is so it can be plotted for comparison. Uses Equation 1 of the manuscript"
   ]
  },
  {
   "cell_type": "code",
   "execution_count": 46,
   "id": "7c64ce38-d892-4456-ad2f-2917061933a1",
   "metadata": {
    "tags": []
   },
   "outputs": [],
   "source": [
    "day_thresh=212\n",
    "\n",
    "m20_mon = ['Oct','Nov','Dec','Jan','Feb','Mar','Apr']\n",
    "m20_mon_nums = [10,11,12,1,2,3,4]\n",
    "\n",
    "mon_densities = {}\n",
    "for t,mon in zip(range(0,8),m20_mon_nums):\n",
    "    den = 6.5*t + 274.5\n",
    "    mon_densities[mon] = den\n",
    "\n",
    "day_bands = {}\n",
    "for mon in m20_mon_nums:\n",
    "    \n",
    "    first_day = datetime.date(2023,mon,1)\n",
    "    if mon != 12:\n",
    "        last_day = datetime.date(2023,mon+1,1)-datetime.timedelta(days=1)\n",
    "    else:\n",
    "        last_day = datetime.date(2023,1,1)\n",
    "\n",
    "    day_bands[mon] = (dt_to_dsa1(first_day),dt_to_dsa1(last_day))"
   ]
  },
  {
   "cell_type": "markdown",
   "id": "e41165f6",
   "metadata": {},
   "source": [
    "# Produce month-based x-ticks and labels for the figure\n",
    "\n",
    "### These only hold for non-leap-year case"
   ]
  },
  {
   "cell_type": "code",
   "execution_count": 47,
   "id": "2c23487e",
   "metadata": {},
   "outputs": [],
   "source": [
    "sup_th = '$^{\\mathrm{st}}$'\n",
    "month_start_dsa = [0]\n",
    "counter = 0\n",
    "month_names = ['Aug','Sep','Oct','Nov','Dec','Jan','Feb','Mar','Apr','May','Jun','Jul']\n",
    "\n",
    "month_names = [mn+ f' 1{sup_th}' for mn in month_names]\n",
    "for d in [31,31,31,30,31,28,31,30,31,30,31,]:\n",
    "    counter +=d\n",
    "    month_start_dsa.append(counter)"
   ]
  },
  {
   "cell_type": "markdown",
   "id": "1a50486e",
   "metadata": {},
   "source": [
    "# Produce the figure"
   ]
  },
  {
   "cell_type": "code",
   "execution_count": 58,
   "id": "dc993afa",
   "metadata": {
    "tags": []
   },
   "outputs": [
    {
     "data": {
      "image/png": "[encoded data removed]",
      "text/plain": [
       "<Figure size 1200x500 with 2 Axes>"
      ]
     },
     "metadata": {},
     "output_type": "display_data"
    }
   ],
   "source": [
    "fig, ax = plt.subplots(1,1,figsize=(12,5))\n",
    "\n",
    "### Define your colour scheme ###\n",
    "\n",
    "c1='crimson'\n",
    "c2='darkblue'\n",
    "c3='k'\n",
    "\n",
    "### Plot M20 ###\n",
    "\n",
    "for key in day_bands.keys():\n",
    "    ax.plot(np.array([day_bands[key][0],day_bands[key][1]]),\n",
    "             [mon_densities[key],mon_densities[key]],\n",
    "            color=c1,lw=4,zorder=10)\n",
    "    \n",
    "ax.plot([],\n",
    "         [],\n",
    "         label='Mallett et al.\\n(2020; M20)',\n",
    "        color=c1,lw=4,zorder=10)\n",
    "\n",
    "### Plot Scatter ###\n",
    "\n",
    "ax.scatter(df['dsa'],\n",
    "            df['den'],\n",
    "            marker='.',\n",
    "            s=15,\n",
    "            color=c3,\n",
    "            label='Transect Means')\n",
    "\n",
    "### Plot Equation 1 Regression Line ###\n",
    "\n",
    "ax.plot(df['dsa'],df['Eq2'],\n",
    "        color=c2,\n",
    "        label='Linear Fit',\n",
    "       lw=4,ls='--')\n",
    "\n",
    "\n",
    "### Handle X-Axis Ticks ###\n",
    "\n",
    "ax.set_xlabel(f'Days Since August 1{sup_th}',fontsize='xx-large')\n",
    "\n",
    "ax.set_xticks(np.arange(0,351,50))\n",
    "ax.set_xticklabels(labels=np.arange(0,351,50),\n",
    "                   rotation=0,fontsize='xx-large')\n",
    "\n",
    "axb = ax.twiny()\n",
    "axb.set_xticks(month_start_dsa)\n",
    "axb.set_xticklabels(month_names,fontsize='xx-large',rotation=45)\n",
    "axb.set_xlim(0,365)\n",
    "\n",
    "### Y-Axis Ticks and Label ###\n",
    "\n",
    "ax.set_yticks(np.arange(100,501,100))\n",
    "ax.set_yticklabels(np.arange(100,501,100),fontsize='xx-large')\n",
    "ax.set_ylabel('Snow Density (kg m$^{-3}$)',fontsize='xx-large')\n",
    "\n",
    "ax.legend(loc='lower right',fontsize='xx-large')\n",
    "\n",
    "### Annotation ###\n",
    "\n",
    "r_val = str(np.round(lr[2],decimals=2))\n",
    "rmse_str = np.round(rmse_full,decimals=2)\n",
    "kg3 = 'kg m$^{-3}$'\n",
    "r_str = f'\\nRMSE = {rmse_str} {kg3}'\n",
    "sub_d = '$_\\mathrm{A1}$'\n",
    "ax.annotate(fr'$\\rho$ = {np.round(lr[0],decimals=3)}t{sub_d} + {np.round(lr[1],decimals=2)}'+r_str,\n",
    "             xy=(0.02,0.98),xycoords='axes fraction',\n",
    "             fontsize=20,color=c2,va='top')\n",
    "\n",
    "\n",
    "\n",
    "ax.set_xlim(0,365)\n",
    "ax.set_ylim(100,450)\n",
    "\n",
    "odir = '/home/robbie/Dropbox/Apps/Overleaf/Densification/figs/'\n",
    "\n",
    "plt.savefig(f'{odir}fig1.jpg',bbox_inches='tight',dpi=400)\n",
    "\n",
    "plt.show()"
   ]
  },
  {
   "cell_type": "markdown",
   "id": "fc4da599",
   "metadata": {},
   "source": [
    "# Make leap year calculation for reviewer responses"
   ]
  },
  {
   "cell_type": "code",
   "execution_count": 30,
   "id": "f5c21563",
   "metadata": {},
   "outputs": [
    {
     "data": {
      "text/plain": [
       "(60, 61)"
      ]
     },
     "execution_count": 30,
     "metadata": {},
     "output_type": "execute_result"
    }
   ],
   "source": [
    "### 2020 was a leap year but 2021 was not\n",
    "\n",
    "datetime.date(2021,3,1).timetuple().tm_yday, datetime.date(2020,3,1).timetuple().tm_yday"
   ]
  },
  {
   "cell_type": "code",
   "execution_count": null,
   "id": "76f2d3bd",
   "metadata": {},
   "outputs": [],
   "source": []
  },
  {
   "cell_type": "code",
   "execution_count": null,
   "id": "b6111728",
   "metadata": {},
   "outputs": [],
   "source": []
  },
  {
   "cell_type": "code",
   "execution_count": null,
   "id": "07af9a3c",
   "metadata": {},
   "outputs": [],
   "source": []
  },
  {
   "cell_type": "code",
   "execution_count": null,
   "id": "1f7dc4bc",
   "metadata": {},
   "outputs": [],
   "source": []
  },
  {
   "cell_type": "code",
   "execution_count": null,
   "id": "4b5d3610",
   "metadata": {},
   "outputs": [],
   "source": []
  },
  {
   "cell_type": "code",
   "execution_count": null,
   "id": "e3a94f84",
   "metadata": {},
   "outputs": [],
   "source": []
  },
  {
   "cell_type": "code",
   "execution_count": null,
   "id": "39f49a71",
   "metadata": {},
   "outputs": [],
   "source": []
  },
  {
   "cell_type": "code",
   "execution_count": null,
   "id": "865474f6",
   "metadata": {},
   "outputs": [],
   "source": []
  },
  {
   "cell_type": "code",
   "execution_count": null,
   "id": "6853afe0",
   "metadata": {},
   "outputs": [],
   "source": []
  },
  {
   "cell_type": "code",
   "execution_count": null,
   "id": "1b8e5dd7",
   "metadata": {},
   "outputs": [],
   "source": []
  },
  {
   "cell_type": "code",
   "execution_count": null,
   "id": "38eb5089",
   "metadata": {},
   "outputs": [],
   "source": []
  }
 ],
 "metadata": {
  "kernelspec": {
   "display_name": "Python 3 (ipykernel)",
   "language": "python",
   "name": "python3"
  },
  "language_info": {
   "codemirror_mode": {
    "name": "ipython",
    "version": 3
   },
   "file_extension": ".py",
   "mimetype": "text/x-python",
   "name": "python",
   "nbconvert_exporter": "python",
   "pygments_lexer": "ipython3",
   "version": "3.11.5"
  }
 },
 "nbformat": 4,
 "nbformat_minor": 5
}
